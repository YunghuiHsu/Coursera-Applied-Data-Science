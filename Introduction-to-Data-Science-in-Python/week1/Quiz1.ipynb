{
 "cells": [
  {
   "cell_type": "code",
   "execution_count": 4,
   "metadata": {},
   "outputs": [],
   "source": [
    "import numpy as np"
   ]
  },
  {
   "cell_type": "code",
   "execution_count": 2,
   "metadata": {},
   "outputs": [
    {
     "data": {
      "text/plain": [
       "['bat', 'bot']"
      ]
     },
     "execution_count": 2,
     "metadata": {},
     "output_type": "execute_result"
    }
   ],
   "source": [
    "import re\n",
    "string = 'bat, lat, mat, bet, let, met, bit, lit, mit, bot, lot, mot'\n",
    "re.findall('b[ao]t', string)"
   ]
  },
  {
   "cell_type": "code",
   "execution_count": 37,
   "metadata": {},
   "outputs": [
    {
     "data": {
      "text/plain": [
       "550.8618529011327"
      ]
     },
     "execution_count": 37,
     "metadata": {},
     "output_type": "execute_result"
    }
   ],
   "source": [
    "def l2_dist(a, b):\n",
    "    result = ((a - b) * (a - b)).sum()\n",
    "    result = result ** 0.5\n",
    "    return result\n",
    "\n",
    "a = np.random.randn(20,20)\n",
    "b = np.random.randn(20,20)\n",
    "\n",
    "# l2_dist(a.T, b.T)\n",
    "# l2_dist(np.reshape(a,20*20), np.reshape(b,20*20))\n",
    "l2_dist(np.reshape(a,(20*20)), \n",
    "        np.reshape(b,(20*20,1) ))  # return error"
   ]
  },
  {
   "cell_type": "code",
   "execution_count": 27,
   "metadata": {},
   "outputs": [
    {
     "name": "stdout",
     "output_type": "stream",
     "text": [
      "(4,)\n",
      "(4, 1)\n",
      "(1, 4)\n",
      "(3,)\n",
      "(4,)\n"
     ]
    },
    {
     "data": {
      "text/plain": [
       "True"
      ]
     },
     "execution_count": 27,
     "metadata": {},
     "output_type": "execute_result"
    }
   ],
   "source": [
    "a1 = np.random.rand(4)\n",
    "a2 = np.random.rand(4, 1)\n",
    "a3 = np.array([[1, 2, 3, 4]])\n",
    "a4 = np.arange(1, 4, 1)\n",
    "a5 = np.linspace(1 ,4, 4)\n",
    "\n",
    "print(a1.shape) \n",
    "print(a2.shape) \n",
    "print(a3.shape) \n",
    "print(a4.shape) \n",
    "print(a5.shape) \n",
    "a4.ndim == 1"
   ]
  },
  {
   "cell_type": "code",
   "execution_count": 28,
   "metadata": {},
   "outputs": [
    {
     "name": "stdout",
     "output_type": "stream",
     "text": [
      "[[0 0 1]\n",
      " [1 1 1]]\n"
     ]
    }
   ],
   "source": [
    "import numpy as np\n",
    "\n",
    "old = np.array([[1, 1, 1], [1, 1, 1]])\n",
    "new = old\n",
    "new[0, :2] = 0\n",
    "print(old)"
   ]
  },
  {
   "cell_type": "code",
   "execution_count": null,
   "metadata": {},
   "outputs": [],
   "source": []
  },
  {
   "cell_type": "code",
   "execution_count": 39,
   "metadata": {},
   "outputs": [
    {
     "data": {
      "text/plain": [
       "['AC']"
      ]
     },
     "execution_count": 39,
     "metadata": {},
     "output_type": "execute_result"
    }
   ],
   "source": [
    "import re\n",
    "s = 'ACBCAC'\n",
    "\n",
    "# For the given string, which of the following regular expressions can be used to check if the string starts with 'AC'?\n",
    "\n",
    "\n",
    "# re.findall('^AC',s)\n"
   ]
  },
  {
   "cell_type": "code",
   "execution_count": 49,
   "metadata": {},
   "outputs": [
    {
     "data": {
      "text/plain": [
       "['A', 'AA', 'AA', 'AA', 'A']"
      ]
     },
     "execution_count": 49,
     "metadata": {},
     "output_type": "execute_result"
    }
   ],
   "source": [
    "# What will be the output of the variable L after the following code is executed?\n",
    "\n",
    "import re\n",
    "\n",
    "s = 'ACAABAACAAAB'\n",
    "result = re.findall('A{1,2}', s)\n",
    "# L = len(result)\n",
    "result"
   ]
  },
  {
   "cell_type": "code",
   "execution_count": null,
   "metadata": {},
   "outputs": [],
   "source": [
    "Which of the following is the correct regular expression to extract all the phone numbers from the following chunk of text:\n",
    "\n",
    "'Office of Research Administration: (734) 647-6333 | 4325 North Quad\n",
    "Office of Budget and Financial Administration: (734) 647-8044 | 309 Maynard, Suite 205\n",
    "Health Informatics Program: (734) 763-2285 | 333 Maynard, Suite 500\n",
    "Office of the Dean: (734) 647-3576 | 4322 North Quad\n",
    "UMSI Engagement Center: (734) 763-1251 | 777 North University\n",
    "Faculty Adminstrative Support Staff: (734) 764-9376 | 4322 North Quad'\n",
    "    \n",
    "# [(]\\d{3}[)]\\s\\d{3}[-]\\d{4}"
   ]
  },
  {
   "cell_type": "code",
   "execution_count": null,
   "metadata": {},
   "outputs": [],
   "source": [
    "# Which of the following regular expressions can be used to get the domain names (e.g. google.com, www.baidu.com) from the following sentence?\n",
    "\n",
    "'I refer to https://google.com and I never refer http://www.baidu.com if I have to search anything'\n",
    "\n",
    "# (?<=https:\\/\\/)([A-Za-z0-9.]*)"
   ]
  },
  {
   "cell_type": "code",
   "execution_count": 59,
   "metadata": {},
   "outputs": [
    {
     "name": "stdout",
     "output_type": "stream",
     "text": [
      "4\n"
     ]
    },
    {
     "data": {
      "text/plain": [
       "['(a)', '(b)', '(c)', '(d)']"
      ]
     },
     "execution_count": 59,
     "metadata": {},
     "output_type": "execute_result"
    }
   ],
   "source": [
    "'''\n",
    "The text from the Canadian Charter of Rights and Freedoms section 2 lists the fundamental freedoms afforded to everyone.\n",
    "Of the four choices provided to replace X in the code below, which would accurately count the number of fundamental freedoms \n",
    "that Canadians have? '''\n",
    "\n",
    " \n",
    "text=r'''Everyone has the following fundamental freedoms:\n",
    "(a) freedom of conscience and religion;\n",
    "(b) freedom of thought, belief, opinion and expression, including freedom of the press and other media of communication;\n",
    "(c) freedom of peaceful assembly; and\n",
    "(d) freedom of association.\n",
    "'''\n",
    " \n",
    "\n",
    "import re\n",
    "\n",
    "# X = '\\(.\\)'\n",
    "pattern = X\n",
    "print(len(re.findall(pattern,text)))\n",
    "re.findall(pattern,text)\n",
    "\n"
   ]
  },
  {
   "cell_type": "code",
   "execution_count": null,
   "metadata": {},
   "outputs": [],
   "source": []
  }
 ],
 "metadata": {
  "kernelspec": {
   "display_name": "Python 3",
   "language": "python",
   "name": "python3"
  },
  "language_info": {
   "codemirror_mode": {
    "name": "ipython",
    "version": 3
   },
   "file_extension": ".py",
   "mimetype": "text/x-python",
   "name": "python",
   "nbconvert_exporter": "python",
   "pygments_lexer": "ipython3",
   "version": "3.8.5"
  }
 },
 "nbformat": 4,
 "nbformat_minor": 4
}
