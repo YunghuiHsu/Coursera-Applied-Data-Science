{
 "cells": [
  {
   "cell_type": "markdown",
   "metadata": {},
   "source": [
    "https://github.com/abhilampard/Olympics_Dataset.git\n",
    "https://github.com/Qian-Han/coursera-Applied-Data-Science-with-Python\n",
    "##### This is the notebook for assignment 2 of the Coursera Python Data Analysis course. This was converted from a jupyter notebook that you can download it as part of the course downloads zip file. The submissions work by uploading a ipynb file so there's a bit of cutting and pasting needed to get the code from here to there. Also I didn't use their variable names so the final outcome needs some aliasing for the grader to pass it."
   ]
  },
  {
   "cell_type": "markdown",
   "metadata": {},
   "source": [
    "# Part 1\n",
    "The following code loads the olympics dataset (olympics.csv), which was derrived from the Wikipedia entry on All Time Olympic Games Medals, and does some basic data cleaning.\n",
    "\n",
    "The columns are organized as # of Summer games, Summer medals, # of Winter games, Winter medals, total # number of games, total # of medals. Use this dataset to answer the questions below."
   ]
  },
  {
   "cell_type": "markdown",
   "metadata": {},
   "source": [
    "Create a dataframe with following data cleanup to make this file redable.\n",
    "\n",
    "Create a function load_data to read CSV file and convert CSV data to dataframe.\n",
    "Skip first row\n",
    "Rename column containing 01, 02 and 03 to Gold, Silver and Bronze\n",
    "Split country name and country code and add country name as data frame index\n",
    "Remove extra unnecessary characters from country name.\n",
    "Drop the column Totals\n",
    "Return dataframe."
   ]
  },
  {
   "cell_type": "code",
   "execution_count": 2,
   "metadata": {},
   "outputs": [],
   "source": [
    "import numpy as np\n",
    "import pandas as pd"
   ]
  },
  {
   "cell_type": "code",
   "execution_count": 4,
   "metadata": {},
   "outputs": [
    {
     "data": {
      "text/plain": [
       "'1.19.4'"
      ]
     },
     "execution_count": 4,
     "metadata": {},
     "output_type": "execute_result"
    }
   ],
   "source": [
    "np.__version__"
   ]
  },
  {
   "cell_type": "code",
   "execution_count": 5,
   "metadata": {},
   "outputs": [
    {
     "data": {
      "text/plain": [
       "'1.1.4'"
      ]
     },
     "execution_count": 5,
     "metadata": {},
     "output_type": "execute_result"
    }
   ],
   "source": [
    "pd.__version__"
   ]
  },
  {
   "cell_type": "code",
   "execution_count": 3,
   "metadata": {},
   "outputs": [
    {
     "data": {
      "text/html": [
       "<div>\n",
       "<style scoped>\n",
       "    .dataframe tbody tr th:only-of-type {\n",
       "        vertical-align: middle;\n",
       "    }\n",
       "\n",
       "    .dataframe tbody tr th {\n",
       "        vertical-align: top;\n",
       "    }\n",
       "\n",
       "    .dataframe thead th {\n",
       "        text-align: right;\n",
       "    }\n",
       "</style>\n",
       "<table border=\"1\" class=\"dataframe\">\n",
       "  <thead>\n",
       "    <tr style=\"text-align: right;\">\n",
       "      <th></th>\n",
       "      <th>№ Summer</th>\n",
       "      <th>Gold_s</th>\n",
       "      <th>Silver_s</th>\n",
       "      <th>Bronze_s</th>\n",
       "      <th>Total</th>\n",
       "      <th>№ Winter</th>\n",
       "      <th>Gold_w</th>\n",
       "      <th>Silver_w</th>\n",
       "      <th>Bronze_w</th>\n",
       "      <th>Total.1</th>\n",
       "      <th>№ Games</th>\n",
       "      <th>Gold</th>\n",
       "      <th>Silver</th>\n",
       "      <th>Bronze</th>\n",
       "      <th>Combined total</th>\n",
       "    </tr>\n",
       "  </thead>\n",
       "  <tbody>\n",
       "    <tr>\n",
       "      <th>Afghanistan</th>\n",
       "      <td>13</td>\n",
       "      <td>0</td>\n",
       "      <td>0</td>\n",
       "      <td>2</td>\n",
       "      <td>2</td>\n",
       "      <td>0</td>\n",
       "      <td>0</td>\n",
       "      <td>0</td>\n",
       "      <td>0</td>\n",
       "      <td>0</td>\n",
       "      <td>13</td>\n",
       "      <td>0</td>\n",
       "      <td>0</td>\n",
       "      <td>2</td>\n",
       "      <td>2</td>\n",
       "    </tr>\n",
       "    <tr>\n",
       "      <th>Algeria</th>\n",
       "      <td>12</td>\n",
       "      <td>5</td>\n",
       "      <td>2</td>\n",
       "      <td>8</td>\n",
       "      <td>15</td>\n",
       "      <td>3</td>\n",
       "      <td>0</td>\n",
       "      <td>0</td>\n",
       "      <td>0</td>\n",
       "      <td>0</td>\n",
       "      <td>15</td>\n",
       "      <td>5</td>\n",
       "      <td>2</td>\n",
       "      <td>8</td>\n",
       "      <td>15</td>\n",
       "    </tr>\n",
       "    <tr>\n",
       "      <th>Argentina</th>\n",
       "      <td>23</td>\n",
       "      <td>18</td>\n",
       "      <td>24</td>\n",
       "      <td>28</td>\n",
       "      <td>70</td>\n",
       "      <td>18</td>\n",
       "      <td>0</td>\n",
       "      <td>0</td>\n",
       "      <td>0</td>\n",
       "      <td>0</td>\n",
       "      <td>41</td>\n",
       "      <td>18</td>\n",
       "      <td>24</td>\n",
       "      <td>28</td>\n",
       "      <td>70</td>\n",
       "    </tr>\n",
       "    <tr>\n",
       "      <th>Armenia</th>\n",
       "      <td>5</td>\n",
       "      <td>1</td>\n",
       "      <td>2</td>\n",
       "      <td>9</td>\n",
       "      <td>12</td>\n",
       "      <td>6</td>\n",
       "      <td>0</td>\n",
       "      <td>0</td>\n",
       "      <td>0</td>\n",
       "      <td>0</td>\n",
       "      <td>11</td>\n",
       "      <td>1</td>\n",
       "      <td>2</td>\n",
       "      <td>9</td>\n",
       "      <td>12</td>\n",
       "    </tr>\n",
       "    <tr>\n",
       "      <th>Australasia</th>\n",
       "      <td>2</td>\n",
       "      <td>3</td>\n",
       "      <td>4</td>\n",
       "      <td>5</td>\n",
       "      <td>12</td>\n",
       "      <td>0</td>\n",
       "      <td>0</td>\n",
       "      <td>0</td>\n",
       "      <td>0</td>\n",
       "      <td>0</td>\n",
       "      <td>2</td>\n",
       "      <td>3</td>\n",
       "      <td>4</td>\n",
       "      <td>5</td>\n",
       "      <td>12</td>\n",
       "    </tr>\n",
       "    <tr>\n",
       "      <th>...</th>\n",
       "      <td>...</td>\n",
       "      <td>...</td>\n",
       "      <td>...</td>\n",
       "      <td>...</td>\n",
       "      <td>...</td>\n",
       "      <td>...</td>\n",
       "      <td>...</td>\n",
       "      <td>...</td>\n",
       "      <td>...</td>\n",
       "      <td>...</td>\n",
       "      <td>...</td>\n",
       "      <td>...</td>\n",
       "      <td>...</td>\n",
       "      <td>...</td>\n",
       "      <td>...</td>\n",
       "    </tr>\n",
       "    <tr>\n",
       "      <th>Yugoslavia</th>\n",
       "      <td>16</td>\n",
       "      <td>26</td>\n",
       "      <td>29</td>\n",
       "      <td>28</td>\n",
       "      <td>83</td>\n",
       "      <td>14</td>\n",
       "      <td>0</td>\n",
       "      <td>3</td>\n",
       "      <td>1</td>\n",
       "      <td>4</td>\n",
       "      <td>30</td>\n",
       "      <td>26</td>\n",
       "      <td>32</td>\n",
       "      <td>29</td>\n",
       "      <td>87</td>\n",
       "    </tr>\n",
       "    <tr>\n",
       "      <th>Independent Olympic Participants</th>\n",
       "      <td>1</td>\n",
       "      <td>0</td>\n",
       "      <td>1</td>\n",
       "      <td>2</td>\n",
       "      <td>3</td>\n",
       "      <td>0</td>\n",
       "      <td>0</td>\n",
       "      <td>0</td>\n",
       "      <td>0</td>\n",
       "      <td>0</td>\n",
       "      <td>1</td>\n",
       "      <td>0</td>\n",
       "      <td>1</td>\n",
       "      <td>2</td>\n",
       "      <td>3</td>\n",
       "    </tr>\n",
       "    <tr>\n",
       "      <th>Zambia</th>\n",
       "      <td>12</td>\n",
       "      <td>0</td>\n",
       "      <td>1</td>\n",
       "      <td>1</td>\n",
       "      <td>2</td>\n",
       "      <td>0</td>\n",
       "      <td>0</td>\n",
       "      <td>0</td>\n",
       "      <td>0</td>\n",
       "      <td>0</td>\n",
       "      <td>12</td>\n",
       "      <td>0</td>\n",
       "      <td>1</td>\n",
       "      <td>1</td>\n",
       "      <td>2</td>\n",
       "    </tr>\n",
       "    <tr>\n",
       "      <th>Zimbabwe</th>\n",
       "      <td>12</td>\n",
       "      <td>3</td>\n",
       "      <td>4</td>\n",
       "      <td>1</td>\n",
       "      <td>8</td>\n",
       "      <td>1</td>\n",
       "      <td>0</td>\n",
       "      <td>0</td>\n",
       "      <td>0</td>\n",
       "      <td>0</td>\n",
       "      <td>13</td>\n",
       "      <td>3</td>\n",
       "      <td>4</td>\n",
       "      <td>1</td>\n",
       "      <td>8</td>\n",
       "    </tr>\n",
       "    <tr>\n",
       "      <th>Mixed team</th>\n",
       "      <td>3</td>\n",
       "      <td>8</td>\n",
       "      <td>5</td>\n",
       "      <td>4</td>\n",
       "      <td>17</td>\n",
       "      <td>0</td>\n",
       "      <td>0</td>\n",
       "      <td>0</td>\n",
       "      <td>0</td>\n",
       "      <td>0</td>\n",
       "      <td>3</td>\n",
       "      <td>8</td>\n",
       "      <td>5</td>\n",
       "      <td>4</td>\n",
       "      <td>17</td>\n",
       "    </tr>\n",
       "  </tbody>\n",
       "</table>\n",
       "<p>146 rows × 15 columns</p>\n",
       "</div>"
      ],
      "text/plain": [
       "                                  № Summer  Gold_s  Silver_s  Bronze_s  Total  \\\n",
       "Afghanistan                             13       0         0         2      2   \n",
       "Algeria                                 12       5         2         8     15   \n",
       "Argentina                               23      18        24        28     70   \n",
       "Armenia                                  5       1         2         9     12   \n",
       "Australasia                              2       3         4         5     12   \n",
       "...                                    ...     ...       ...       ...    ...   \n",
       "Yugoslavia                              16      26        29        28     83   \n",
       "Independent Olympic Participants         1       0         1         2      3   \n",
       "Zambia                                  12       0         1         1      2   \n",
       "Zimbabwe                                12       3         4         1      8   \n",
       "Mixed team                               3       8         5         4     17   \n",
       "\n",
       "                                  № Winter  Gold_w  Silver_w  Bronze_w  \\\n",
       "Afghanistan                              0       0         0         0   \n",
       "Algeria                                  3       0         0         0   \n",
       "Argentina                               18       0         0         0   \n",
       "Armenia                                  6       0         0         0   \n",
       "Australasia                              0       0         0         0   \n",
       "...                                    ...     ...       ...       ...   \n",
       "Yugoslavia                              14       0         3         1   \n",
       "Independent Olympic Participants         0       0         0         0   \n",
       "Zambia                                   0       0         0         0   \n",
       "Zimbabwe                                 1       0         0         0   \n",
       "Mixed team                               0       0         0         0   \n",
       "\n",
       "                                  Total.1  № Games  Gold  Silver  Bronze  \\\n",
       "Afghanistan                             0       13     0       0       2   \n",
       "Algeria                                 0       15     5       2       8   \n",
       "Argentina                               0       41    18      24      28   \n",
       "Armenia                                 0       11     1       2       9   \n",
       "Australasia                             0        2     3       4       5   \n",
       "...                                   ...      ...   ...     ...     ...   \n",
       "Yugoslavia                              4       30    26      32      29   \n",
       "Independent Olympic Participants        0        1     0       1       2   \n",
       "Zambia                                  0       12     0       1       1   \n",
       "Zimbabwe                                0       13     3       4       1   \n",
       "Mixed team                              0        3     8       5       4   \n",
       "\n",
       "                                  Combined total  \n",
       "Afghanistan                                    2  \n",
       "Algeria                                       15  \n",
       "Argentina                                     70  \n",
       "Armenia                                       12  \n",
       "Australasia                                   12  \n",
       "...                                          ...  \n",
       "Yugoslavia                                    87  \n",
       "Independent Olympic Participants               3  \n",
       "Zambia                                         2  \n",
       "Zimbabwe                                       8  \n",
       "Mixed team                                    17  \n",
       "\n",
       "[146 rows x 15 columns]"
      ]
     },
     "execution_count": 3,
     "metadata": {},
     "output_type": "execute_result"
    }
   ],
   "source": [
    "# read CSV file and convert CSV data to dataframe.\n",
    "    # Skip first row\n",
    "df = pd.read_csv('olympics.csv',skiprows=1)  # index_col 指定第一欄作為index，預設為none自行加入。skiprows跳過第一欄無用的數字\n",
    "# df\n",
    "\n",
    "#　rename columns\n",
    "rename_col={'Unnamed: 0': 'Country',\n",
    "            '01 !':'Gold_s',\n",
    "            '02 !':'Silver_s',\n",
    "            '03 !':'Bronze_s',\n",
    "            '01 !.1':'Gold_w',\n",
    "            '02 !.1':'Silver_w',\n",
    "            '03 !.1':'Bronze_w',\n",
    "            '01 !.2':'Gold',\n",
    "            '02 !.2':'Silver',\n",
    "            '03 !.2':'Bronze',\n",
    "           }\n",
    "df = df.rename(columns=rename_col)\n",
    "# df\n",
    "\n",
    "# Split country name and country code and add country name as data frame inde\n",
    "    # split wuth regex('reg') get first item([0]) \n",
    "country_names  = [s.split('\\xa0(')[0] for s in df.iloc[:,0]]  \n",
    "\n",
    "# set country_names as index\n",
    "df = df.set_index(pd.Series(country_names))\n",
    "df = df.drop(columns=['Country']) \n",
    "\n",
    "# drop row[Toltals] \n",
    "df = df.drop('Totals') \n",
    "df\n",
    "# [i for i in df.index.values] # check country name"
   ]
  },
  {
   "cell_type": "markdown",
   "metadata": {},
   "source": [
    "### Question 0 (Example)\n",
    "\n",
    "What is the first country in df?\n",
    "\n",
    "This function should return a Series."
   ]
  },
  {
   "cell_type": "code",
   "execution_count": 27,
   "metadata": {},
   "outputs": [
    {
     "data": {
      "text/plain": [
       "№ Summer          13\n",
       "Gold_s             0\n",
       "Silver_s           0\n",
       "Bronze_s           2\n",
       "Total              2\n",
       "№ Winter           0\n",
       "Gold_w             0\n",
       "Silver_w           0\n",
       "Bronze_w           0\n",
       "Total.1            0\n",
       "№ Games           13\n",
       "Gold               0\n",
       "Silver             0\n",
       "Bronze             2\n",
       "Combined total     2\n",
       "Name: Afghanistan, dtype: int64"
      ]
     },
     "execution_count": 27,
     "metadata": {},
     "output_type": "execute_result"
    }
   ],
   "source": [
    "# You should write your whole answer within the function provided. The autograder will call\n",
    "# this function and compare the return value against the correct solution value\n",
    "def answer_zero():\n",
    "    # This function returns the row for Afghanistan, which is a Series object. The assignment\n",
    "    # question description will tell you the general format the autograder is expecting\n",
    "    \n",
    "    return df.iloc[0]\n",
    "#     return df.iloc[0,:]\n",
    "\n",
    "# You can examine what your function returns by calling it in the cell. If you have questions\n",
    "# about the assignment formats, check out the discussion forums for any FAQs\n",
    "answer_zero()"
   ]
  },
  {
   "cell_type": "markdown",
   "metadata": {},
   "source": [
    "# Question 1\n",
    "Which country has won the most gold medals in summer games?\n",
    "\n",
    "Create a function gold_medal to get name of country who won most gold medals.\n",
    "Return country name."
   ]
  },
  {
   "cell_type": "code",
   "execution_count": 5,
   "metadata": {},
   "outputs": [
    {
     "data": {
      "text/plain": [
       "'United States'"
      ]
     },
     "execution_count": 5,
     "metadata": {},
     "output_type": "execute_result"
    }
   ],
   "source": [
    "def gold_medal():\n",
    "    \n",
    "    # get by sort_values\n",
    "#     return df.sort_values(by='Gold_s', ascending=False).index[0]\n",
    "    \n",
    "    # get by index\n",
    "    return df.iloc[:,1].idxmax()\n",
    " \n",
    "gold_medal()"
   ]
  },
  {
   "cell_type": "code",
   "execution_count": 31,
   "metadata": {},
   "outputs": [
    {
     "data": {
      "text/plain": [
       "'United States'"
      ]
     },
     "execution_count": 31,
     "metadata": {},
     "output_type": "execute_result"
    }
   ],
   "source": [
    "def answer_one():\n",
    "#     return \"YOUR ANSWER HERE\"\n",
    "    most_gold = max(df['Gold'])\n",
    "    return str(df[df['Gold'] == most_gold].index[0])\n",
    "#     return most_gold\n",
    "\n",
    "answer_one()"
   ]
  },
  {
   "cell_type": "markdown",
   "metadata": {},
   "source": [
    "## Question 2\n",
    "Which country had the biggest difference between their summer and winter gold medal counts?\n",
    "\n",
    "Create a function biggest_difference_in_gold_medal to get name of country who has biggest difference between their summer and winter gold medal counts.\n",
    "Return country name."
   ]
  },
  {
   "cell_type": "code",
   "execution_count": 14,
   "metadata": {},
   "outputs": [
    {
     "data": {
      "text/plain": [
       "'United States'"
      ]
     },
     "execution_count": 14,
     "metadata": {},
     "output_type": "execute_result"
    }
   ],
   "source": [
    "def biggest_difference_in_gold_medal():\n",
    "    \n",
    "    diff = (df['Gold_s']-df['Gold_w']).abs()\n",
    "        # get by sort_values\n",
    "#     return diff.sort_values( ascending=False).index[0]\n",
    "\n",
    "    # get by index\n",
    "    return diff.idxmax()\n",
    "    \n",
    "biggest_difference_in_gold_medal()    "
   ]
  },
  {
   "cell_type": "code",
   "execution_count": 35,
   "metadata": {},
   "outputs": [
    {
     "data": {
      "text/plain": [
       "'United States'"
      ]
     },
     "execution_count": 35,
     "metadata": {},
     "output_type": "execute_result"
    }
   ],
   "source": [
    "def answer_two():\n",
    "    copy_df = df.copy()\n",
    "    copy_df['Diff'] = copy_df['Gold_s'] - copy_df['Gold_w']\n",
    "#     print(copy_df['Diff'])\n",
    "    most_diff = max(copy_df['Diff'])\n",
    "    return (str(copy_df[copy_df['Diff'] == most_diff].index[0]))\n",
    "    \n",
    "answer_two()"
   ]
  },
  {
   "cell_type": "markdown",
   "metadata": {},
   "source": [
    "## Question 3\n",
    "Which country has the biggest difference between their summer gold medal counts and winter gold medal counts relative to their total gold medal count?\n",
    "\n",
    "$$\\frac{Summer~Gold - Winter~Gold}{Total~Gold}$$\n",
    "Only include countries that have won at least 1 gold in both summer and winter.\n",
    "\n",
    "This function should return a single string value."
   ]
  },
  {
   "cell_type": "code",
   "execution_count": null,
   "metadata": {},
   "outputs": [],
   "source": [
    "def q3():\n",
    "    # 篩選條件指定至少拿過夏季及冬季金牌的\n",
    "    # 指定使用copy避免後面造成chain indexing問題\n",
    "    df_gold = df[(df.loc[:,'Gold_s'] >= 1) & (df.loc[:,'Gold_w'] >= 1)].copy()\n",
    "    \n",
    "    # 在df後方插入'Diff'欄位 取得夏季與冬季金牌的數量差異的絕對值\n",
    "    df_gold['Diff'] =  (df_gold.loc[:,'Gold_s'] - df_gold.loc[:,'Gold_w']).abs()\n",
    "    \n",
    "    maxRatio = df_gold.loc[:,'Diff'] / df_gold.loc[:,'Gold']\n",
    "    \n",
    "    return maxRatio.sort_values(ascending=False).index[0]\n",
    "    \n",
    "    \n",
    "q3()"
   ]
  },
  {
   "cell_type": "code",
   "execution_count": 12,
   "metadata": {},
   "outputs": [
    {
     "data": {
      "text/plain": [
       "'Bulgaria'"
      ]
     },
     "execution_count": 12,
     "metadata": {},
     "output_type": "execute_result"
    }
   ],
   "source": [
    "df_gold = df[(df.loc[:,'Gold_s'] >= 1) & (df.loc[:,'Gold_w'] >= 1)].copy()\n",
    "df_gold['Diff'] =  (df_gold.loc[:,'Gold_s'] - df_gold.loc[:,'Gold_w']).abs()\n",
    " \n",
    "maxRatio = df_gold.loc[:,'Diff'] / df_gold.loc[:,'Gold']\n",
    "maxRatio.sort_values(ascending=False).index[0]\n",
    "            "
   ]
  },
  {
   "cell_type": "code",
   "execution_count": 80,
   "metadata": {},
   "outputs": [
    {
     "data": {
      "text/plain": [
       "'Bulgaria'"
      ]
     },
     "execution_count": 80,
     "metadata": {},
     "output_type": "execute_result"
    }
   ],
   "source": [
    "def answer_three():\n",
    "    copy_df = df.copy()\n",
    "    copy_df = copy_df.where(df['Gold_s'] > 0)\n",
    "    copy_df = copy_df.where(df['Gold_w'] > 0)\n",
    "#     print(copy_df)\n",
    "#     copy_df_final = copy_df[np.isfinite(copy_df['Gold_Ratio'])]\n",
    "    copy_df['Diff'] = copy_df['Gold_s'] - copy_df['Gold_w']\n",
    "    copy_df['Gold_Ratio'] = copy_df['Diff'] / (copy_df['Gold_s'] + copy_df['Gold_w'])\n",
    "    copy_df_final = copy_df[np.isfinite(copy_df['Gold_Ratio'])]\n",
    "    max_ratio = max(copy_df_final['Gold_Ratio'])\n",
    "    \n",
    "    return (str(copy_df_final[copy_df_final['Gold_Ratio'] == max_ratio].index[0]))\n",
    "answer_three()"
   ]
  },
  {
   "cell_type": "markdown",
   "metadata": {},
   "source": [
    "## Question 4\n",
    "Write a function to update the dataframe to include a new column called \"Points\" for Games which is a weighted value where each gold medal counts for 3 points, silver medals for 2 points, and bronze medals for 1 point. The function should return only the column (a Series object) which you created.\n",
    "\n",
    "Create a function get_points.\n",
    "Return dataframe with points column and index."
   ]
  },
  {
   "cell_type": "code",
   "execution_count": 20,
   "metadata": {},
   "outputs": [
    {
     "data": {
      "text/plain": [
       "Afghanistan                           2\n",
       "Algeria                              27\n",
       "Argentina                           130\n",
       "Armenia                              16\n",
       "Australasia                          22\n",
       "                                   ... \n",
       "Yugoslavia                          171\n",
       "Independent Olympic Participants      4\n",
       "Zambia                                3\n",
       "Zimbabwe                             18\n",
       "Mixed team                           38\n",
       "Name: Points, Length: 146, dtype: int64"
      ]
     },
     "execution_count": 20,
     "metadata": {},
     "output_type": "execute_result"
    }
   ],
   "source": [
    "def get_points():\n",
    "    df['Points'] = df['Gold']*3+ df['Silver']*2+ df['Bronze']*1\n",
    "    return df['Points']\n",
    "get_points()"
   ]
  },
  {
   "cell_type": "markdown",
   "metadata": {},
   "source": [
    "# Part 2\n",
    "For the next set of questions, we will be using census data from the United States Census Bureau. Counties are political and geographic subdivisions of states in the United States. This dataset contains population data for counties and states in the US from 2010 to 2015. See this document for a description of the variable names.\n",
    "\n",
    "The census dataset (census.csv) should be loaded as census_df. Answer questions using this as appropriate.\n",
    "\n",
    "United States Census Bureau\n",
    "https://www.census.gov/popest/data/counties/totals/2015/CO-EST2015-alldata.html\n"
   ]
  },
  {
   "cell_type": "markdown",
   "metadata": {},
   "source": [
    "### Question 5\n",
    "Which state has the most counties in it? (hint: consider the sumlevel key carefully! You'll need this for future questions too...)\n",
    "\n",
    "This function should return a single string value."
   ]
  },
  {
   "cell_type": "code",
   "execution_count": null,
   "metadata": {},
   "outputs": [],
   "source": []
  }
 ],
 "metadata": {
  "kernelspec": {
   "display_name": "Python 3",
   "language": "python",
   "name": "python3"
  },
  "language_info": {
   "codemirror_mode": {
    "name": "ipython",
    "version": 3
   },
   "file_extension": ".py",
   "mimetype": "text/x-python",
   "name": "python",
   "nbconvert_exporter": "python",
   "pygments_lexer": "ipython3",
   "version": "3.8.5"
  }
 },
 "nbformat": 4,
 "nbformat_minor": 4
}
